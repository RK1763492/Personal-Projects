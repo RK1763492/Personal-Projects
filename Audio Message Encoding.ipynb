{
 "cells": [
  {
   "cell_type": "code",
   "execution_count": null,
   "id": "3941a7bc",
   "metadata": {},
   "outputs": [],
   "source": [
    "# r\"C:\\Users\\rkesh\\OneDrive - Villanova University\\3rd Year\\Semester 2\\Modeling\\Assignment 10\\What We Fight For (Half Life).wav\""
   ]
  },
  {
   "cell_type": "code",
   "execution_count": 20,
   "id": "399985b3",
   "metadata": {},
   "outputs": [
    {
     "name": "stdout",
     "output_type": "stream",
     "text": [
      "Modified audio file saved as: modified_audio.wav\n"
     ]
    }
   ],
   "source": [
    "import numpy as np\n",
    "from scipy.io import wavfile\n",
    "\n",
    "def text_to_ascii(message):\n",
    "    ascii_values = [ord(char) for char in message]\n",
    "    return ascii_values\n",
    "\n",
    "def encode_message_into_audio(input_audio_file, message, output_audio_file):\n",
    "    # Read the existing audio file\n",
    "    sample_rate, audio_data = wavfile.read(input_audio_file)\n",
    "    \n",
    "    # Compute the Fourier transform\n",
    "    audio_fft = np.fft.fft(audio_data)\n",
    "    \n",
    "    # Encode message into Fourier transform\n",
    "    encoded_fft = audio_fft.copy()\n",
    "    message_values = text_to_ascii(message)\n",
    "    for i, value in enumerate(message_values):\n",
    "        encoded_fft[i] += value\n",
    "    \n",
    "    # Apply inverse Fourier transform to get modified audio signal\n",
    "    modified_audio_data = np.fft.ifft(encoded_fft)\n",
    "    \n",
    "    # Convert modified audio data to 16-bit integers\n",
    "    modified_audio_data = np.int16(np.real(modified_audio_data) * 32767)\n",
    "    \n",
    "    # Save modified audio file\n",
    "    wavfile.write(output_audio_file, sample_rate, modified_audio_data)\n",
    "    print(\"Modified audio file saved as:\", output_audio_file)\n",
    "\n",
    "# Example usage\n",
    "input_audio_file = r\"C:\\Users\\rkesh\\OneDrive - Villanova University\\3rd Year\\Semester 2\\Modeling\\Assignment 10\\What We Fight For (Half Life).wav\"\n",
    "output_audio_file = \"modified_audio.wav\"\n",
    "message = \"Hello World!\"\n",
    "\n",
    "encode_message_into_audio(input_audio_file, message, output_audio_file)\n"
   ]
  },
  {
   "cell_type": "code",
   "execution_count": null,
   "id": "571be91d",
   "metadata": {},
   "outputs": [
    {
     "name": "stdout",
     "output_type": "stream",
     "text": [
      "Modified audio file saved as: modified_audio.wav\n"
     ]
    }
   ],
   "source": [
    "import numpy as np\n",
    "from scipy.io import wavfile\n",
    "\n",
    "def ascii_to_text(ascii_values):\n",
    "    message = ''.join(chr(value) for value in ascii_values)\n",
    "    return message\n",
    "\n",
    "def decode_message_from_audio(modified_audio_file, original_audio_fft):\n",
    "    # Read the modified audio file\n",
    "    sample_rate, modified_audio_data = wavfile.read(modified_audio_file)\n",
    "    \n",
    "    # Compute the Fourier transform of the modified audio data\n",
    "    modified_audio_fft = np.fft.fft(modified_audio_data)\n",
    "    \n",
    "    # Extract encoded message from Fourier transform\n",
    "    encoded_message = []\n",
    "    for i, value in enumerate(modified_audio_fft):\n",
    "        if i < len(original_audio_fft):\n",
    "            encoded_value = int(np.real(value) - np.real(original_audio_fft[i]))\n",
    "            encoded_message.append(encoded_value)\n",
    "    \n",
    "    # Convert ASCII values back to characters\n",
    "    decoded_message = ascii_to_text(encoded_message)\n",
    "    \n",
    "    return decoded_message\n",
    "\n",
    "# Example usage\n",
    "input_audio_file = r\"C:\\Users\\rkesh\\OneDrive - Villanova University\\3rd Year\\Semester 2\\Modeling\\Assignment 10\\What We Fight For (Half Life).wav\"\n",
    "output_audio_file = \"modified_audio.wav\"\n",
    "message = \"Hello World!\"\n",
    "\n",
    "original_sample_rate, original_audio_data = wavfile.read(input_audio_file)\n",
    "original_audio_fft = np.fft.fft(original_audio_data)\n",
    "\n",
    "encode_message_into_audio(input_audio_file, message, output_audio_file)\n",
    "decoded_message = decode_message_from_audio(output_audio_file, original_audio_fft)\n",
    "print(\"Decoded message:\", decoded_message)\n"
   ]
  },
  {
   "cell_type": "code",
   "execution_count": null,
   "id": "da7a415a",
   "metadata": {},
   "outputs": [],
   "source": []
  }
 ],
 "metadata": {
  "kernelspec": {
   "display_name": "Python 3 (ipykernel)",
   "language": "python",
   "name": "python3"
  },
  "language_info": {
   "codemirror_mode": {
    "name": "ipython",
    "version": 3
   },
   "file_extension": ".py",
   "mimetype": "text/x-python",
   "name": "python",
   "nbconvert_exporter": "python",
   "pygments_lexer": "ipython3",
   "version": "3.8.11"
  }
 },
 "nbformat": 4,
 "nbformat_minor": 5
}
